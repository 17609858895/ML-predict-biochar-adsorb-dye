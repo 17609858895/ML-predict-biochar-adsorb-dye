# Initial Setup
import os
import numpy as np
import random
import pandas as pd
import warnings
warnings.filterwarnings("ignore")

# Setting seed for reproducibility
os.environ['PYTHONHASHSEED'] = str(1)
np.random.seed(1)
random.seed(1)

# Data Loading and Preprocessing
from sklearn.model_selection import train_test_split, KFold
from sklearn.preprocessing import StandardScaler
from sklearn.metrics import mean_squared_error, r2_score, mean_absolute_error
from skopt import BayesSearchCV
from skopt.space import Real, Integer
import lightgbm as lgb

# Load data
data = pd.read_excel('Biochar_dye_filtered.xlsx')
X = data.iloc[:, :-1].drop(['O/C', 'PV', 'E'], axis=1)
y = data.iloc[:, -1]

# Data preprocessing
scaler = StandardScaler()
X_scaled = scaler.fit_transform(X)
X_train, X_test, y_train, y_test = train_test_split(X_scaled, y, test_size=0.2, random_state=1)

# Model Optimization with Bayesian Optimization
lgb_model = lgb.LGBMRegressor(random_state=1, force_col_wise=True)
param_spaces = {
    'n_estimators': Integer(100, 1000),
    'max_depth': Integer(3, 30),
    'num_leaves': Integer(10, 100),
    'learning_rate': Real(0.01, 0.3, 'log-uniform'),
    'min_child_samples': Integer(5, 20),
    'subsample': Real(0.5, 1.0, 'uniform'),
    'colsample_bytree': Real(0.5, 1.0, 'uniform'),
}

optimizer = BayesSearchCV(estimator=lgb_model, search_spaces=param_spaces, n_iter=32, scoring='neg_mean_squared_error', cv=5, random_state=1)
optimizer.fit(X_train, y_train)

# Model Evaluation and Printing the Best Parameters
best_params = optimizer.best_params_
print(f'Best parameters: {best_params}')
lgb_optimized = lgb.LGBMRegressor(**best_params, random_state=1)
lgb_optimized.fit(X_train, y_train)

y_pred_train = lgb_optimized.predict(X_train)
y_pred_test = lgb_optimized.predict(X_test)
rmse_train = np.sqrt(mean_squared_error(y_train, y_pred_train))
rmse_test = np.sqrt(mean_squared_error(y_test, y_pred_test))
r2_train = r2_score(y_train, y_pred_train)
r2_test = r2_score(y_test, y_pred_test)
mae_train = mean_absolute_error(y_train, y_pred_train)
mae_test = mean_absolute_error(y_test, y_pred_test)

print(f'Train RMSE: {rmse_train}, Train R^2: {r2_train}, Train MAE: {mae_train}')
print(f'Test RMSE: {rmse_test}, Test R^2: {r2_test}, Test MAE: {mae_test}')

# Export Data
with pd.ExcelWriter('Results_LGBM.xlsx') as writer:
    train_results_df = pd.DataFrame({
        'y_true': y_train,
        'y_pred': y_pred_train
    })
    test_results_df = pd.DataFrame({
        'y_true': y_test,
        'y_pred': y_pred_test
    })

    train_results_df.to_excel(writer, sheet_name='Train Results', index=False)
    test_results_df.to_excel(writer, sheet_name='Test Results', index=False)

# Model Evaluation Loop
kf = KFold(n_splits=5, shuffle=True, random_state=1)
metrics = {'train_rmse': [], 'test_rmse': [], 'train_r2': [], 'test_r2': [], 'train_mae': [], 'test_mae': []}

for train_index, test_index in kf.split(X_scaled):
    X_train_kf, X_test_kf = X_scaled[train_index], X_scaled[test_index]
    y_train_kf, y_test_kf = y.iloc[train_index], y.iloc[test_index]

    lgb_optimized.fit(X_train_kf, y_train_kf)

    y_train_pred_kf = lgb_optimized.predict(X_train_kf)
    y_test_pred_kf = lgb_optimized.predict(X_test_kf)

    train_rmse_kf = np.sqrt(mean_squared_error(y_train_kf, y_train_pred_kf))
    test_rmse_kf = np.sqrt(mean_squared_error(y_test_kf, y_test_pred_kf))
    train_r2_kf = r2_score(y_train_kf, y_train_pred_kf)
    test_r2_kf = r2_score(y_test_kf, y_test_pred_kf)
    train_mae_kf = mean_absolute_error(y_train_kf, y_train_pred_kf)
    test_mae_kf = mean_absolute_error(y_test_kf, y_test_pred_kf)

    metrics['train_rmse'].append(train_rmse_kf)
    metrics['test_rmse'].append(test_rmse_kf)
    metrics['train_r2'].append(train_r2_kf)
    metrics['test_r2'].append(test_r2_kf)
    metrics['train_mae'].append(train_mae_kf)
    metrics['test_mae'].append(test_mae_kf)

# Save Evaluation Results to Excel
evaluation_results_df = pd.DataFrame(metrics)
evaluation_results_df.to_excel("LGBM_Model_Evaluation_Results.xlsx", index=False)

print("Completed model evaluations.")
