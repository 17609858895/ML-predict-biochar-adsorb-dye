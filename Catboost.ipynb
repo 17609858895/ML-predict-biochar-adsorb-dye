### 0. Initial Cleaning
import os
os.environ['PYTHONHASHSEED']=str(1)
import numpy as np
np.random.seed(1)
import random
random.seed(1)
import warnings
warnings.filterwarnings("ignore")

# 1. Import Libraries
import pandas as pd
from catboost import CatBoostRegressor
from sklearn.model_selection import train_test_split
from sklearn.preprocessing import StandardScaler
from sklearn.metrics import mean_squared_error, r2_score, mean_absolute_error
from skopt import BayesSearchCV
from skopt.space import Real, Integer
from sklearn.model_selection import KFold

# 2. Load Data
data = pd.read_excel('Biochar_dye_filtered.xlsx')
X = data.iloc[:, :-1]
y = data.iloc[:, -1]

# 3. Data Preprocessing
# Delete irrelevant columns
X.drop(['O/C', 'PV', 'E'], axis=1, inplace=True)

scaler = StandardScaler()
X_scaled = scaler.fit_transform(X)
X_train, X_test, y_train, y_test = train_test_split(X_scaled, y, test_size=0.2, random_state=1)

# 4. Parameter Optimization (Bayesian Optimization)
catboost_model = CatBoostRegressor(verbose=0, random_state=1)
param_spaces = {
    'learning_rate': Real(0.01, 1.0),
    'depth': Integer(1, 10),
    'l2_leaf_reg': Real(0.1, 10),
    'rsm': Real(0.5, 1)
}

optimizer = BayesSearchCV(estimator=catboost_model, search_spaces=param_spaces, n_iter=32, scoring='neg_mean_squared_error', cv=5)
optimizer.fit(X_train, y_train)

# 5. Model Accuracy Testing
best_params = optimizer.best_params_
print(f'Best parameters: {best_params}')
catboost_optimized = CatBoostRegressor(**best_params, random_state=1, verbose=0)
catboost_optimized.fit(X_train, y_train)

# 6. Model Evaluation
y_pred_train = catboost_optimized.predict(X_train)
y_pred_test = catboost_optimized.predict(X_test)
rmse_train = np.sqrt(mean_squared_error(y_train, y_pred_train))
rmse_test = np.sqrt(mean_squared_error(y_test, y_pred_test))
r2_train = r2_score(y_train, y_pred_train)
r2_test = r2_score(y_test, y_pred_test)
mae_train = mean_absolute_error(y_train, y_pred_train)
mae_test = mean_absolute_error(y_test, y_pred_test)

print(f'Train RMSE: {rmse_train}, Train R^2: {r2_train}, Train MAE: {mae_train}')
print(f'Test RMSE: {rmse_test}, Test R^2: {r2_test}, Test MAE: {mae_test}')

# 7. Export Data
with pd.ExcelWriter('Results_CatBoost.xlsx') as writer:
    train_results_df = pd.DataFrame({
        'y_true': y_train,
        'y_pred': y_pred_train
    })
    test_results_df = pd.DataFrame({
        'y_true': y_test,
        'y_pred': y_pred_test
    })
    
    train_results_df.to_excel(writer, sheet_name='Train Results', index=False)
    test_results_df.to_excel(writer, sheet_name='Test Results', index=False)

# 8. Model Evaluation Loop
kf = KFold(n_splits=5, shuffle=True, random_state=1)
metrics = {'train_rmse': [], 'test_rmse': [], 'train_r2': [], 'test_r2': [], 'train_mae': [], 'test_mae': []}

for i in range(1000):
    for train_index, test_index in kf.split(X_scaled):
        X_train_kf, X_test_kf = X_scaled[train_index], X_scaled[test_index]
        y_train_kf, y_test_kf = y.iloc[train_index], y.iloc[test_index]

        catboost_optimized.fit(X_train_kf, y_train_kf)

        y_train_pred_kf = catboost_optimized.predict(X_train_kf)
        y_test_pred_kf = catboost_optimized.predict(X_test_kf)

        train_rmse_kf = np.sqrt(mean_squared_error(y_train_kf, y_train_pred_kf))
        test_rmse_kf = np.sqrt(mean_squared_error(y_test_kf, y_test_pred_kf))
        train_r2_kf = r2_score(y_train_kf, y_train_pred_kf)
        test_r2_kf = r2_score(y_test_kf, y_test_pred_kf)
        train_mae_kf = mean_absolute_error(y_train_kf, y_train_pred_kf)
        test_mae_kf = mean_absolute_error(y_test_kf, y_test_pred_kf)

        metrics['train_rmse'].append(train_rmse_kf)
        metrics['test_rmse'].append(test_rmse_kf)
        metrics['train_r2'].append(train_r2_kf)
        metrics['test_r2'].append(test_r2_kf)
        metrics['train_mae'].append(train_mae_kf)
        metrics['test_mae'].append(test_mae_kf)

# Save evaluation results to Excel
results_df = pd.DataFrame(metrics)
results_df.to_excel("CatBoost_Model_Evaluation_Results.xlsx", index=False)

print("Completed model evaluations.")


import matplotlib.pyplot as plt
import shap
import pandas as pd
import numpy as np

# Set font size parameters for Matplotlib
plt.rcParams['axes.labelsize'] = 12  # Font size for axis labels
plt.rcParams['xtick.labelsize'] = 20  # Font size for x-axis tick labels
plt.rcParams['ytick.labelsize'] = 20  # Font size for y-axis tick labels
plt.rcParams['legend.title_fontsize'] = 20  # Font size for legend title
plt.rcParams['legend.fontsize'] = 20  # Font size for legend

# Assuming X_train_df is a DataFrame with column names, and catboost_optimized is the trained model
# (Note that X_train_df and catboost_optimized need to be defined beforehand)

explainer = shap.TreeExplainer(catboost_optimized)
shap_values = explainer.shap_values(X_train_df)

# Set the size of the plot
plt.figure(figsize=(10, 8))

# Plot the SHAP summary plot
shap.summary_plot(shap_values, X_train_df, feature_names=X_train_df.columns)

# Export the image using savefig and set dpi to 800
plt.savefig("shap_summary_plot.png", dpi=800, bbox_inches='tight')

# Calculate feature importance percentage
shap_sum = np.abs(shap_values).mean(axis=0)
importance_df = pd.DataFrame({
    'Feature': X_train_df.columns,
    'Importance': shap_sum
})
importance_df['Importance (%)'] = 100 * (importance_df['Importance'] / importance_df['Importance'].sum())
importance_df.sort_values('Importance', ascending=False, inplace=True)
importance_df.reset_index(drop=True, inplace=True)

# Output feature importance
print(importance_df)

